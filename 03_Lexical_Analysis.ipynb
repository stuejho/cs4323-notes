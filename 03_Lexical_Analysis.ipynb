{
 "cells": [
  {
   "cell_type": "markdown",
   "id": "scientific-client",
   "metadata": {},
   "source": [
    "# Chapter 3 Lexical Analysis"
   ]
  },
  {
   "cell_type": "markdown",
   "id": "literary-fetish",
   "metadata": {},
   "source": [
    "The lexical analyzer (scanner) can be viewed as a subroutine or coroutine of the parser:\n",
    "* Easy design – Can concentrate only on the most complex parsing task in syntax analysis.\n",
    "* Efficiency – The size of the parse tree can be greatly reduced and this saves time and space.\n",
    "* Portability – The same parser can be used for lexically different versions of a programming language."
   ]
  },
  {
   "cell_type": "markdown",
   "id": "three-rotation",
   "metadata": {},
   "source": [
    "<h3><center><i>Scanner and Parser</i></center></h3>\n",
    "\n",
    "![Scanner and Parser](res/03/3-1.png)"
   ]
  },
  {
   "cell_type": "markdown",
   "id": "foster-bracket",
   "metadata": {},
   "source": [
    "## Input Buffering"
   ]
  },
  {
   "cell_type": "markdown",
   "id": "objective-universal",
   "metadata": {},
   "source": [
    "**Input buffering** – The scanner will access input symbols via a buffer containing a part of the source program which is stored in a secondary storage."
   ]
  },
  {
   "cell_type": "markdown",
   "id": "productive-floating",
   "metadata": {},
   "source": [
    "#### Example: Double Buffering\n",
    "\n",
    "A double buffer can be implemented by using a **circular queue**.\n",
    "\n",
    "Consider the following program:\n",
    "```\n",
    "...\n",
    "int x;\n",
    "x += 4;\n",
    "double d;\n",
    "d = 9.401;\n",
    "```\n",
    "\n",
    "It can be observed that the keyword `double` is present in the program but is cut off at the end of buffer 2. Once the `l` of `double` has been read, buffer 1 is reloaded so the `e` of double can be read. A similar situation arises for the constant `9.401`."
   ]
  },
  {
   "cell_type": "markdown",
   "id": "nutritional-magnet",
   "metadata": {},
   "source": [
    "<h3><center><i>Double Buffering Example</i></center></h3>\n",
    "\n",
    "<img src=\"./res/03/3-2.png\" width=\"700px\" alt=\"Double Buffering Example\"/>"
   ]
  },
  {
   "cell_type": "markdown",
   "id": "improving-recognition",
   "metadata": {},
   "source": [
    "## Error Recovery"
   ]
  },
  {
   "cell_type": "markdown",
   "id": "herbal-arthritis",
   "metadata": {},
   "source": [
    "**Error recovery** – Recover from errors in order to fins more errors. Examples include:\n",
    "* Panic mode recovery, i.e., simply ignore some successive characters until a well-formed token is found.\n",
    "* Deletion, insertion, replacement or transposition of a few characters, e.g., 102.o8 → 108.08"
   ]
  },
  {
   "cell_type": "markdown",
   "id": "common-feeling",
   "metadata": {},
   "source": [
    "## Automated vs. Manual Design"
   ]
  },
  {
   "cell_type": "markdown",
   "id": "theoretical-ceremony",
   "metadata": {},
   "source": [
    "* Can use a scanner generator such as LEX.\n",
    "* Design from a DFA."
   ]
  },
  {
   "cell_type": "markdown",
   "id": "elder-pregnancy",
   "metadata": {},
   "source": [
    "<h3><center><i>Scanner Transformation Process</i></center></h3>\n",
    "\n",
    "<img src=\"./res/03/3-3.png\" width=\"500px\" alt=\"Scanner Transformation Process\"/>"
   ]
  },
  {
   "cell_type": "markdown",
   "id": "dental-footage",
   "metadata": {},
   "source": [
    "#### Example: DFA → Scanner"
   ]
  },
  {
   "cell_type": "markdown",
   "id": "golden-denver",
   "metadata": {},
   "source": [
    "Transform the given DFA to a scanner:\n",
    "\n",
    "<img src=\"./res/03/3-4.png\" width=\"400px\" alt=\"DFA Example\"/>"
   ]
  },
  {
   "cell_type": "markdown",
   "id": "existing-defensive",
   "metadata": {},
   "source": [
    "##### Pseudocode - one block for each state"
   ]
  },
  {
   "cell_type": "markdown",
   "id": "elect-system",
   "metadata": {},
   "source": [
    "```\n",
    "State-A:\n",
    "    read(c);\n",
    "    if (c == 'a') then goto State-B\n",
    "    else if (c == 'b') then goto State-B\n",
    "    else ERROR()\n",
    "State-B:\n",
    "    read(c)\n",
    "    if (c == 'a') then goto State-D\n",
    "    else if (c == 'b') then goto State-B\n",
    "    else if (c in $) then ACCEPT()\n",
    "    else ERROR()\n",
    "State-C:\n",
    "    read(c)\n",
    "    if (c == 'a') then goto State-A\n",
    "    else if (c == 'b') then goto State-D\n",
    "    else ERROR()\n",
    "State-D:\n",
    "    read(c)\n",
    "    if (c == 'a') then goto State-B\n",
    "    else if (c == 'b') then goto State-A\n",
    "    else ERROR()\n",
    "```"
   ]
  },
  {
   "cell_type": "markdown",
   "id": "empirical-geneva",
   "metadata": {},
   "source": [
    "#### Example: Big DFA"
   ]
  },
  {
   "cell_type": "markdown",
   "id": "expanded-design",
   "metadata": {},
   "source": [
    "Here is a DFA applicable to Programming Assignment 1.\n",
    "\n",
    "![Big DFA](res/03/DFA.png)"
   ]
  }
 ],
 "metadata": {
  "kernelspec": {
   "display_name": "Python 3",
   "language": "python",
   "name": "python3"
  },
  "language_info": {
   "codemirror_mode": {
    "name": "ipython",
    "version": 3
   },
   "file_extension": ".py",
   "mimetype": "text/x-python",
   "name": "python",
   "nbconvert_exporter": "python",
   "pygments_lexer": "ipython3",
   "version": "3.8.5"
  }
 },
 "nbformat": 4,
 "nbformat_minor": 5
}
