{
 "cells": [
  {
   "cell_type": "markdown",
   "id": "accepted-silicon",
   "metadata": {},
   "source": [
    "# Chapter 4-A Top-Down Parsing"
   ]
  },
  {
   "cell_type": "markdown",
   "id": "drawn-wings",
   "metadata": {},
   "source": [
    "The syntax analyzer performs the major syntax checking (the inherently recursive part) of the source program."
   ]
  },
  {
   "cell_type": "markdown",
   "id": "unlimited-genius",
   "metadata": {},
   "source": [
    "#### Example"
   ]
  },
  {
   "cell_type": "markdown",
   "id": "major-healing",
   "metadata": {},
   "source": [
    "$L = \\{a^nb^n \\mid n \\ge 1\\}$, i.e., the language of all nested parentheses (or begin-ends), is not regular but is context-free.\n",
    "\n",
    "For example, `()`, `(())`, `begin begin end end`."
   ]
  },
  {
   "cell_type": "markdown",
   "id": "brief-vintage",
   "metadata": {},
   "source": [
    "The syntax of a programming language is defined by a context-free grammar but there are language features that cannot be described by a context-free grammar. They must be handled by the semantic analyzer."
   ]
  },
  {
   "cell_type": "markdown",
   "id": "literary-newton",
   "metadata": {},
   "source": [
    "#### Example"
   ]
  },
  {
   "cell_type": "markdown",
   "id": "built-alias",
   "metadata": {},
   "source": [
    "$L = \\{wzw \\mid w, z \\in \\{a, b\\}^*\\}$, i.e., the language abstracting the feature that identifiers are declared before their use, is not context-free but is context-sensitive (semantic analyzer)."
   ]
  },
  {
   "cell_type": "markdown",
   "id": "literary-investor",
   "metadata": {},
   "source": [
    "#### Example"
   ]
  },
  {
   "cell_type": "markdown",
   "id": "alleged-given",
   "metadata": {},
   "source": [
    "$\n",
    "\\begin{eqnarray}\n",
    "E &\\rightarrow& E + E \\\\\n",
    "&\\mid& E * E \\\\\n",
    "&\\mid& [id] \\\\\n",
    "&\\mid& [const]\n",
    "\\end{eqnarray}\n",
    "$"
   ]
  },
  {
   "cell_type": "markdown",
   "id": "controversial-boundary",
   "metadata": {},
   "source": [
    "<h3><center><i>Example Parse Tree</i></center></h3>\n",
    "\n",
    "<img src=\"./res/04/4_1.png\" width=\"300px\" alt=\"Example Parse Tree\"/>"
   ]
  },
  {
   "cell_type": "markdown",
   "id": "restricted-airplane",
   "metadata": {},
   "source": [
    "A leftmost derivation:\n",
    "\n",
    "$\n",
    "\\begin{eqnarray}\n",
    "E &\\Rightarrow_{lm}& E * E \\\\\n",
    "&\\Rightarrow_{lm}& [id] * E \\\\\n",
    "&\\Rightarrow_{lm}& [id] * E + E \\\\\n",
    "&\\Rightarrow_{lm}& [id] * [id] + E \\\\\n",
    "&\\Rightarrow_{lm}& [id] * [id] + [id]\n",
    "\\end{eqnarray}\n",
    "$\n",
    "\n",
    "A rightmost derivation:\n",
    "\n",
    "$\n",
    "\\begin{eqnarray}\n",
    "E &\\Rightarrow_{rm}& E * E & \\\\\n",
    "&\\Rightarrow_{rm}& E * E + E \\\\\n",
    "&\\Rightarrow_{rm}& E * E + [id] \\\\\n",
    "&\\Rightarrow_{rm}& E * [id] + [id] \\\\\n",
    "&\\Rightarrow_{rm}& [id] * [id] + [id]\n",
    "\\end{eqnarray}\n",
    "$"
   ]
  },
  {
   "cell_type": "markdown",
   "id": "hairy-evaluation",
   "metadata": {},
   "source": [
    "#### Note\n",
    "There is a one-to-one correspondance between a parse tree and a right-most derivation.\n",
    "\n",
    "#### Note\n",
    "There is a one-to-one correspondance between a parse tree and a left-most derivation."
   ]
  },
  {
   "cell_type": "markdown",
   "id": "welsh-target",
   "metadata": {},
   "source": [
    "## Ambiguity"
   ]
  },
  {
   "cell_type": "markdown",
   "id": "successful-mongolia",
   "metadata": {},
   "source": [
    "A context-free grammar is **ambiguous** if there are two or more parse trees (or leftmost/rightmost derivations) for some sentence. Otherwise, it is **unambiguous**."
   ]
  },
  {
   "cell_type": "markdown",
   "id": "welsh-hayes",
   "metadata": {},
   "source": [
    "#### Example\n",
    "The example grammar given above is ambiguous, because two different parse trees can lead to the same sentential form."
   ]
  },
  {
   "cell_type": "markdown",
   "id": "australian-intention",
   "metadata": {},
   "source": [
    "#### Note\n",
    "An ambiguous CFG should not be used to define the syntax of a programming language.\n",
    "* Context-free grammar ambiguity problem is undecidable in general.\n",
    "* Rules causing ambiguity can sometimes be modified into unambiguous rules by assuming additional constraints.\n",
    "\n",
    "Also, there is no transformation from an ambiguous CFG to an unambiguous CFG."
   ]
  },
  {
   "cell_type": "markdown",
   "id": "advance-tender",
   "metadata": {},
   "source": [
    "#### Disambiguating rules\n",
    "Assume the operator precedence $* > +$.\n",
    "\n",
    "$\n",
    "\\begin{eqnarray}\n",
    "E &\\rightarrow& E + T \\mid T \\\\\n",
    "T &\\rightarrow& T * F \\mid F \\\\\n",
    "F &\\rightarrow& [id] \\mid  [const]\n",
    "\\end{eqnarray}\n",
    "$"
   ]
  },
  {
   "cell_type": "markdown",
   "id": "impressive-conjunction",
   "metadata": {},
   "source": [
    "#### Example\n",
    "$[id] * [id] + [id]$\n",
    "\n",
    "<h3><center><i>Parse Tree Using Unambiguous Grammar</i></center></h3>\n",
    "\n",
    "<img src=\"./res/04/4_2.png\" width=\"300px\" alt=\"Parse Tree Using Unambiguous Grammar\"/>"
   ]
  },
  {
   "cell_type": "markdown",
   "id": "concerned-recognition",
   "metadata": {},
   "source": [
    "### Dangling-else\n",
    "\n",
    "With the grammar\n",
    "```\n",
    "<stmt> → if <expr> then <stmt> else <stmt> | if <expr> then <stmt> | <other-stmt>\n",
    "```\n",
    "two parse trees can be derived for the string `if E1 then if E2 then S1 else S2`."
   ]
  },
  {
   "cell_type": "markdown",
   "id": "primary-exhibition",
   "metadata": {},
   "source": [
    "<img src=\"./res/04/4_3.png\" width=\"400px\" alt=\"Dangling-else issue\"/>"
   ]
  },
  {
   "cell_type": "markdown",
   "id": "prescription-valve",
   "metadata": {},
   "source": [
    "#### Disambiguating rules\n",
    "Assume that else matches with the nearest unmatched preceding then.\n",
    "```\n",
    "<if-stmt>        → <matched-stmt> | <unmatched-stmt>\n",
    "<matched-stmt>   → if <expr> then <matched-stmt> else <matched-stmt> | <other-stmt>\n",
    "<unmatched-stmt> → if <expr> then <matched-stmt> else <unmatched-stmt>\n",
    "                 | if <expr> then <stmt>\n",
    "```"
   ]
  },
  {
   "cell_type": "markdown",
   "id": "serial-cardiff",
   "metadata": {},
   "source": [
    "## Left-recursion"
   ]
  },
  {
   "cell_type": "markdown",
   "id": "other-circle",
   "metadata": {},
   "source": [
    "This was not discussed in class, but I still think it's interesting/important enough to put here.\n",
    "\n",
    "Because lookahead symbols are used in top-down parsers, a left-recursive production will cause the parser to get stuck. This is due to the fact that expanding a left-recursive rule keep causing a nonterminal to appear on the left. No terminal symbol will ever be derived as a lookahead.\n",
    "\n",
    "Consider a nonterminal $A$ with the following productions:\n",
    "\n",
    "$$A\\rightarrow A\\alpha \\mid \\beta$$\n",
    "\n",
    "Left-recursion can be eliminated by using the following:\n",
    "$$\n",
    "\\begin{eqnarray}\n",
    "A &\\rightarrow& \\beta A' \\\\\n",
    "A' &\\rightarrow& \\alpha A' \\mid \\varepsilon\n",
    "\\end{eqnarray}\n",
    "$$\n",
    "\n",
    "In general, left-recursive productions of the form\n",
    "\n",
    "$$A\\rightarrow A\\alpha_1 \\mid A\\alpha_2 \\mid \\cdots \\mid A\\alpha_m \\mid \\beta_1 \\mid \\beta_2 \\mid \\cdot \\mid \\beta_n$$\n",
    "\n",
    "can be replaced with the following non-left-recursive productions\n",
    "\n",
    "$$\n",
    "\\begin{eqnarray}\n",
    "A &\\rightarrow& \\beta_1 A' \\mid \\beta_2 A' \\mid \\cdots \\mid \\beta_n A' \\\\\n",
    "A' &\\rightarrow& \\alpha_1 A' \\mid \\alpha_2 A' \\mid \\cdots \\mid \\alpha_m A' \\mid \\varepsilon\n",
    "\\end{eqnarray}\n",
    "$$"
   ]
  },
  {
   "cell_type": "markdown",
   "id": "narrative-paint",
   "metadata": {},
   "source": [
    "## Left-factoring\n",
    "\n",
    "This was also not discussed in class, but I also think it's interesting/important enough to put here.\n",
    "\n",
    "Left factoring is useful when productions of a grammar share a common prefix. The decision to pick between two productions is essentially deferred by left-factoring.\n",
    "\n",
    "For a grammar,\n",
    "\n",
    "$$A\\rightarrow \\alpha \\beta_1 \\mid \\alpha \\beta_2$$\n",
    "\n",
    "it can be left factored as follows:\n",
    "\n",
    "$$\n",
    "\\begin{eqnarray}\n",
    "A &\\rightarrow& \\alpha A' \\\\\n",
    "A' &\\rightarrow& \\beta_1 \\mid \\beta_2\n",
    "\\end{eqnarray}\n",
    "$$"
   ]
  },
  {
   "cell_type": "markdown",
   "id": "domestic-order",
   "metadata": {},
   "source": [
    "## Deterministic parsing methods:\n",
    "\n",
    "* Universal parsing algorithms such as Cocke-Younger-Kasami or Earley’s algorithm can parse any context-free language but is impractical in that they run in $O(n^3)$ time.\n",
    "* Top-down LL and bottom-up LR parsing algorithms can parse large subclasses of context-free languages and run in $O(n)$ time."
   ]
  },
  {
   "cell_type": "markdown",
   "id": "greater-pendant",
   "metadata": {},
   "source": [
    "## Syntax error detection and recovery:\n",
    "\n",
    "* Majority of errors are syntactic in nature, e.g., unbalanced parentheses in the arithmetic expression\n",
    "* Most syntax errors are simple ones that can be detected easily by the parser.\n",
    "* Again, heuristics must be used to recover from syntax errors and full recovery is not possible nor cost-effective. Panic mode recovery ignores several subsequent tokens, e.g., upto a sentence-ending one such as `;` or `end`, and `continue`s."
   ]
  },
  {
   "cell_type": "markdown",
   "id": "caroline-highlight",
   "metadata": {},
   "source": [
    "## Cocke-Younger-Kasami (CYK) parsing\n",
    "Given a CFG $G = (N, \\Sigma, P, S)$ in **Chomsky Normal Form** and an input string $w$, test if $w \\in L(G)$. Let $w = a_1 a_2 \\dots a_n$ and let $T$ be an $n \\times n$ table such that $T[i, j]$ is the set of all nonterminals generating $a_{i} a_{i+1} \\cdots a_{j}$. Then, $w \\in L(G)$ if and only if $S \\in T[1, n]$. $T$ can be constructed by a _dynamic programming_."
   ]
  },
  {
   "cell_type": "markdown",
   "id": "working-woman",
   "metadata": {},
   "source": [
    "In general, an element $T[i,j]$ is computed in the following way:\n",
    "\n",
    "| Length   | $a_1$ | $a_2$ | $\\cdots$ | $a_i$          | $a_{i+1}$ | $a_{i+2}$ | $\\cdots$ | $a_{n-1}$     | $a_n$         | $\\vdots$ | $a_{n-1}$ | $a_n$ |\n",
    "|----------|-------|-------|----------|----------------|-----------|-----------|----------|---------------|---------------|----------|-----------|-------|\n",
    "| n        |       |       |          |                |           |           |          |               |               |          |           |       |\n",
    "| $\\cdots$ |       |       |          |                |           |           |          |               |               |          |           |       |\n",
    "| $j$      |       |       |          | $T[i,j]$       |           |           |          |               |               |          |           |       |\n",
    "| $j-1$    |       |       |          | $\\alpha_{j-1}$ | $\\beta_1$ |           |          |               |               |          |           |       |\n",
    "| $j-2$    |       |       |          | $\\alpha_{j-2}$ |           | $\\beta_2$ |          |               |               |          |           |       |\n",
    "| $\\vdots$ |       |       |          | $\\vdots$       |           |           | $\\ddots$ |               |               |          |           |       |\n",
    "| 2        |       |       |          | $\\alpha_2$     |           |           |          | $\\beta_{j-2}$ |               |          |           |       |\n",
    "| 1        |       |       |          | $\\alpha_1$     |           |           |          |               | $\\beta_{j-1}$ |          |           |       |\n",
    "|          | $a_1$ | $a_2$ | $\\cdots$ | $a_i$          | $a_{i+1}$ | $a_{i+2}$ | $\\cdots$ | $a_{i+j-2}$   | $a_{i+j-1}$   | $\\cdots$ | $a_{n-1}$ | $a_n$ |\n",
    "\n",
    "In other words, we consider each combination $\\alpha_{k} \\beta_{k}$, where $k\\in\\{1,2,\\dots,j-1\\}$, and see if there is a production in $G$ of the form $\\gamma \\rightarrow \\alpha_{k} \\beta_{k}$. If such a production exists, then $\\gamma \\in T[i,j]$."
   ]
  },
  {
   "cell_type": "markdown",
   "id": "marked-pierce",
   "metadata": {},
   "source": [
    "#### Note\n",
    "$T[i,j]$ is the set of productions that can derive a string beginning at position $i$ (1-indexed) of length $j$.\n",
    "\n",
    "The goal is to check and see if $S \\in T[1, n]$."
   ]
  },
  {
   "cell_type": "markdown",
   "id": "fiscal-buffalo",
   "metadata": {},
   "source": [
    "#### Complexity\n",
    "$O(n^2)$ table is constructed.\n",
    "Each box takes $O(n)$ computations. These boxes consider $O(|N|^2)$ nonterminals: $O(|N|)$ nonterminals $\\alpha_k$ and $O(|N|)$ nonterminals $\\beta_k$.\n",
    "\n",
    "Altogether, we obtain $O(n^2)\\cdot O(n\\cdot|N|^2)=O(n^3)$. The $|N|^2$ term is ignored, since it is a constant factor (the grammar is fixed, so the number of nonterminals is fixed)."
   ]
  },
  {
   "cell_type": "markdown",
   "id": "enclosed-accused",
   "metadata": {},
   "source": [
    "#### Example\n",
    "Parse $w=abba$ with the following CFG:\n",
    "\n",
    "$\n",
    "\\begin{eqnarray}\n",
    "S &\\rightarrow& AB \\mid SA \\mid BB \\\\\n",
    "A &\\rightarrow& AA \\mid BA \\mid a \\\\\n",
    "A &\\rightarrow& BB \\mid b \\\\\n",
    "\\end{eqnarray}\n",
    "$\n",
    "\n",
    "| Length | $a_1$ | $a_2$ | $a_3$ | $a_4$ | $a_5$ |\n",
    "|--------|-------|-------|-------|-------|-------|\n",
    "| 5      | S,A   |       |       |       |       |\n",
    "| 4      | S     | S,A   |       |       |       |\n",
    "| 3      | S     | B     | S,A   |       |       |\n",
    "| 2      | S     | S,B   | S,B   | A     |       |\n",
    "| 1      | A     | B     | B     | B     | A     |\n",
    "|        | a     | b     | b     | b     | a     |"
   ]
  },
  {
   "cell_type": "markdown",
   "id": "weird-orange",
   "metadata": {},
   "source": [
    "## Top-down parsing\n",
    "Given a CFG $G = (N, \\Sigma, P, S)$ and an input string $w$, construct a parse tree for $w$ in $G$ top-down, i.e., start with the start symbol $S$ and expand nonterminals in order to generate $w$."
   ]
  },
  {
   "cell_type": "markdown",
   "id": "hybrid-advance",
   "metadata": {},
   "source": [
    "#### Observation\n",
    "\n",
    "The main difficulty of the top-down parsing lies in the right choice of the right-hand side (RHS) of a rule when there are multiple RHSs."
   ]
  },
  {
   "cell_type": "markdown",
   "id": "atomic-gazette",
   "metadata": {},
   "source": [
    "#### Note\n",
    "\n",
    "PDA is the recognition device for CFGs (CFG = PDA). Namely, a program structure is defined by a CFG but whether an input structure is valid or not according to the rules of the CFG is tested by a PDA. Our top-down parser will be a PDA simulating a certain type of action of the CFG."
   ]
  },
  {
   "cell_type": "markdown",
   "id": "strange-console",
   "metadata": {},
   "source": [
    "## Pushdown automaton (PDA)\n",
    "\n",
    "A finite automaton with an additional stack of unbounded size, defined formally as $M = (Q, \\Sigma, \\Gamma, \\delta, q_0, Z_0, F)$, where $Q$ is the state set, $\\Sigma$ is the input alphabet, $\\Gamma$ is the stack alphabet, $\\delta: Q \\times (\\Sigma \\cup \\{\\varepsilon\\}) \\times \\Gamma \\rightarrow 2^{Q \\times \\Gamma^*}$ is the transition function, $q_0$ is the initial state, $Z_0 \\in \\Gamma$ is the stack bottom marker, and $F \\subseteq Q$ is the set of accepting states."
   ]
  },
  {
   "cell_type": "markdown",
   "id": "attended-naples",
   "metadata": {},
   "source": [
    "### Configuration\n",
    "A triple $(q, x{\\uparrow}y, \\gamma)$ indicating the PDA’s situation that it is in state $q$ after consuming the prefix $x$ of the input string $xy$, it is scanning the first symbol of $y$ on the input tape, and the stack content is $\\gamma$, where the first symbol of $\\gamma$ is the stack top symbol."
   ]
  },
  {
   "cell_type": "markdown",
   "id": "thousand-sister",
   "metadata": {},
   "source": [
    "### Accepting computation\n",
    "A sequence of configurations $(q_0, {\\uparrow}w, Z_0) \\vdash \\cdots \\vdash (q, w{\\uparrow}, \\gamma)$, where $q \\in F$ (the last one in this sequence is an accepting configuration), i.e., a PDA accepts at the end of the input tape if it is in an accepting state. Assume w.l.o.g. that the PDA accepts with the empty stack (so, $\\gamma = \\varepsilon$)."
   ]
  },
  {
   "cell_type": "markdown",
   "id": "ready-hopkins",
   "metadata": {},
   "source": [
    "### Deterministic PDA (DPDA)\n",
    "A PDA with at most one possible next action at any point of computation"
   ]
  },
  {
   "cell_type": "markdown",
   "id": "fresh-bundle",
   "metadata": {},
   "source": [
    "#### Example\n",
    "\n",
    "DPDA for $L = \\{a^n b^n\\ |\\ n \\ge 1\\}$\n",
    "\n",
    "1. Push a’s into the stack.\n",
    "2. Pop a’s while reading b’s.\n",
    "3. Accept if the stack is empty at the end of the input tape.\n",
    "\n",
    "$M = (\\{q_0,q_1\\}, \\{a, b\\}, \\{a, Z_0\\}, \\delta, q_0, Z_0, \\{q_1\\})$, where\n",
    "\n",
    "$\n",
    "\\begin{align}\n",
    "\\delta(q_0,a,Z_0) = \\{(q_0, aZ_0)\\} \\\\\n",
    "\\delta(q_0,a,a) = \\{(q_0, aa)\\} \\\\\n",
    "\\delta(q_0,a,a) = \\{(q_1, \\varepsilon)\\} \\\\\n",
    "\\delta(q_1,b,a) = \\{(q_1, \\varepsilon)\\} \\\\\n",
    "\\delta(q_1,\\varepsilon,Z_0) = \\{(q_1, \\varepsilon)\\} \\text{ // empty the stack to accept}\n",
    "\\end{align}\n",
    "$"
   ]
  },
  {
   "cell_type": "markdown",
   "id": "asian-slope",
   "metadata": {},
   "source": [
    "#### An accepting computation:\n",
    "\n",
    "$\n",
    "\\begin{eqnarray}\n",
    "(q_0, {\\uparrow}aabb, Z_0) &\\vdash& (q_0, a{\\uparrow}abb, aZ_0) \\\\\n",
    "&\\vdash& (q_0, aa{\\uparrow}bb, aaZ_0) \\\\\n",
    "&\\vdash& (q_1, aab{\\uparrow}b, aZ_0) \\\\\n",
    "&\\vdash& (q_1, aabb{\\uparrow}, Z_0) \\\\\n",
    "&\\vdash& (q_1, aabb{\\uparrow}, \\varepsilon)\n",
    "\\end{eqnarray}\n",
    "$"
   ]
  },
  {
   "cell_type": "markdown",
   "id": "global-arlington",
   "metadata": {},
   "source": [
    "#### Note\n",
    "DPDA ⊊ PDA, i.e., there is a language defined by a PDA but not by any DPDA."
   ]
  },
  {
   "cell_type": "markdown",
   "id": "conditional-plaza",
   "metadata": {},
   "source": [
    "#### Example\n",
    "Example. $L = \\{ww^R\\ |\\ w \\in \\{a, b\\}^*\\} ∈$ PDA $–$ DPDA.\n",
    "\n",
    "1. Similar to the above construction.\n",
    "2. But the mid-point must be guessed.\n",
    "\n",
    "$M = (\\{q_0,q_1\\}, \\{a, b\\}, \\{a, Z_0\\}, \\delta, q_0, Z_0, \\{q_1\\})$, where\n",
    "\n",
    "$\n",
    "\\begin{align}\n",
    "\\delta(q_0,X,Z_0) = \\{(q_0, XZ_0)\\}\\ \\forall X\\in\\{a,b\\} \\\\\n",
    "\\delta(q_0,X,X) = \\{(q_0, XX), (q_1,\\varepsilon)\\}\\ \\forall X\\in\\{a,b\\} \\text{ // multiple choices} \\\\\n",
    "\\delta(q_0,X,Y) = \\{(q_0, XY)\\}\\ \\forall X\\in\\{a,b\\} \\text{ if } X\\ne Y \\\\\n",
    "\\delta(q_1,X,X) = \\{(q_1, \\varepsilon)\\} \\forall X\\in\\{a,b\\} \\\\\n",
    "\\delta(q_1,\\varepsilon,Z_0) = \\{(q_1, \\varepsilon)\\}\n",
    "\\end{align}\n",
    "$"
   ]
  },
  {
   "cell_type": "markdown",
   "id": "alternative-meeting",
   "metadata": {},
   "source": [
    "## CFG to PDA"
   ]
  },
  {
   "cell_type": "markdown",
   "id": "visible-lender",
   "metadata": {},
   "source": [
    "Given a CFG $G = (N, \\Sigma, P, S)$, we construct a PDA M such that $L(M) = L(G)$. For any input $w \\in \\Sigma^*$, $M$ will simulate a leftmost derivation of $w$ in $G$ and accept $w$ if and only if $w$ can be generated by $G$.\n",
    "\n",
    "1. Push $S$ into stack. $M$ will check if the stack content $S$ can convert to the unscanned portion $w$ of the input tape by using the rules of $G$.\n",
    "2. If $M$ has successfully simulated the leftmost derivation of $G$, such as $S \\Rightarrow_{lm}^* xA\\gamma$, where $x \\in \\Sigma^*$ and $A \\in N$ (thus, $A$ is the leftmost nonterminal in the current sentential form), then the corresponding configuration of $M$ is $(q, x{\\uparrow}y, A{\\gamma}Z_0)$. $M$ needs to verify that the current stack content $A\\gamma$ can convert to the unscanned portion $y$ of the input tape.\n",
    "3. It is sufficient to understand how $M$ simulates one step action of $G$ that expands a nonterminal to one of its RHSs, say $A \\Rightarrow \\alpha$. Replace the stack top symbol $A$ by $\\alpha$.\n",
    "  - If a terminal symbol is exposed on the stack top as the result, then consume an identical input symbol and pop it. Repeat this action.\n",
    "  - If a nonterminal symbol is exposed on the stack top, then we are done with the one-step simulation, so go back to (3).\n",
    "4. Accept if the stack is empty at the end of the input tape since it is trivial that the stack content $\\varepsilon$ can turn to the unscanned portion $\\varepsilon$ of the input tape."
   ]
  },
  {
   "cell_type": "markdown",
   "id": "cultural-great",
   "metadata": {},
   "source": [
    "Thus,\n",
    "\n",
    "$M = (\\{q_0,q_1\\}, \\Sigma, N \\cup \\Sigma \\cup \\{Z_0\\}, \\delta, q_0, Z_0, \\{q_1\\})$, where\n",
    "\n",
    "$\n",
    "\\begin{align}\n",
    "\\delta(q_0,\\varepsilon,Z_0) = \\{(q_1, SZ_0)\\}\\ \\\\\n",
    "\\delta(q_1,\\varepsilon,A) = \\{(q_1, \\alpha_j) \\mid j=1,2,\\dots,n\\} \\text{ if} A\\rightarrow\\alpha_1 \\mid \\alpha_2 \\mid \\cdots \\mid \\alpha_n \\text{ are } A \\text{-rules of } G\\\\\n",
    "\\delta(q_1,a,a) = \\{(q_1, \\varepsilon)\\}\\ \\forall a\\in\\Sigma \\\\\n",
    "\\delta(q_1,\\varepsilon,Z_0) = \\{(q_1, \\varepsilon)\\}\n",
    "\\end{align}\n",
    "$"
   ]
  },
  {
   "cell_type": "markdown",
   "id": "capital-gardening",
   "metadata": {},
   "source": [
    "#### Example\n",
    "\n",
    "Grammar:\n",
    "$S\\rightarrow aSbS \\mid \\varepsilon$\n",
    "\n",
    "PDA:\n",
    "$M = (\\{q_0,q_1\\}, \\{a,b\\}, \\{S,a,b,Z_0\\}, \\delta, q_0, Z_0, \\{q_1\\})$, where\n",
    "\n",
    "$\n",
    "\\begin{align}\n",
    "\\delta(q_0,\\varepsilon,Z_0) = \\{(q_1, SZ_0)\\}\\ \\\\\n",
    "\\delta(q_1,\\varepsilon,S) = \\{(q_1, aSbS), (q_1, \\varepsilon)\\} \\\\\n",
    "\\delta(q_1,a,a) = \\{(q_1, \\varepsilon)\\} \\\\\n",
    "\\delta(q_1,b,b) = \\{(q_1, \\varepsilon)\\} \\\\\n",
    "\\delta(q_1,\\varepsilon,Z_0) = \\{(q_1, \\varepsilon)\\}\n",
    "\\end{align}\n",
    "$\n",
    "\n",
    "An accepting computation:\n",
    "\n",
    "$\n",
    "\\begin{align}\n",
    "(q_0, {\\uparrow}aababb, Z_0) &\\vdash& (q_1, {\\uparrow}aababb, SZ_0) \\text{ // Push S onto stack} \\\\\n",
    "&\\vdash& (q_1, {\\uparrow}aababb, aSbSZ_0) \\\\\n",
    "&\\vdash& (q_1, a{\\uparrow}ababb, SbSZ_0) \\\\\n",
    "&\\vdash& (q_1, a{\\uparrow}ababb, aSbSbSZ_0) \\\\\n",
    "&\\vdash& (q_1, aa{\\uparrow}babb, SbSbSZ_0) \\\\\n",
    "&\\vdash& (q_1, aa{\\uparrow}babb, bSbSZ_0) \\\\\n",
    "&\\vdash& (q_1, aab{\\uparrow}abb, SbSZ_0) \\\\\n",
    "&\\vdash& (q_1, aab{\\uparrow}abb, aSbSbSZ_0) \\\\\n",
    "&\\vdash& (q_1, aaba{\\uparrow}bb, SbSbSZ_0) \\\\\n",
    "&\\vdash& (q_1, aaba{\\uparrow}bb, bSbSZ_0) \\\\\n",
    "&\\vdash& (q_1, aabab{\\uparrow}b, SbSZ_0) \\\\\n",
    "&\\vdash& (q_1, aabab{\\uparrow}b, bSZ_0) \\\\\n",
    "&\\vdash& (q_1, aababb{\\uparrow}, SZ_0) \\\\\n",
    "&\\vdash& (q_1, aababb{\\uparrow}, Z_0) \\\\\n",
    "&\\vdash& (q_1, aababb{\\uparrow}, \\varepsilon) \\\\\n",
    "\\end{align}\n",
    "$"
   ]
  },
  {
   "cell_type": "markdown",
   "id": "legendary-germany",
   "metadata": {},
   "source": [
    "### Removing nondeterminism\n",
    "\n",
    "* Use a universal parsing algorithm such as CYK or Earley’s algorithm. This is slow ($O(n^3)$ time).\n",
    "* Use a backtracking algorithm such as recursive-descent algorithm (a direct deterministic simulation of the above PDA by using the depth-first search). This is slow.\n",
    "* Use LL grammars for which the above PDA can be made deterministic. This runs in $O(n)$ time."
   ]
  },
  {
   "cell_type": "markdown",
   "id": "about-monroe",
   "metadata": {},
   "source": [
    "### Obs. 1\n",
    "Our PDA’s action depends mainly on the type of symbols on top of the stack:\n",
    "* Terminal: completely deterministic\n",
    "* Nonterminal: multiple choices if there are more than one rule for the same stack top nonterminal"
   ]
  },
  {
   "cell_type": "markdown",
   "id": "spare-indianapolis",
   "metadata": {},
   "source": [
    "### Obs. 2\n",
    "Our PDA is a totally blind PDA in that the nonterminal-expanding action does not depend at all on the input symbols. Suppose that we have two $A$-rules $A \\rightarrow \\alpha \\mid \\beta$ and consider two derivations that start with these two rules:\n",
    "* $A \\Rightarrow \\alpha \\Rightarrow^* ab\\omega$ meaning that $A\\rightarrow\\alpha$ can generate $ab$ as the first two terminal symbols\n",
    "* $A \\Rightarrow \\beta \\Rightarrow^* \\tau$, where $\\tau$ cannot begin with $ab$"
   ]
  },
  {
   "cell_type": "markdown",
   "id": "burning-section",
   "metadata": {},
   "source": [
    "**Question:** If the stack top symbol is $A$ and the next two symbols on the input tape is $ab$, then which $A$-rule must be used?\n",
    "\n",
    "**Answer:** $A \\rightarrow \\alpha$, not $A \\rightarrow \\beta$.\n",
    "\n",
    "This observation suggests that _looking ahead a few symbols_ from the input tape before consuming them can help decide which rule must be used when a nonterminal is on top of the stack."
   ]
  },
  {
   "cell_type": "markdown",
   "id": "peaceful-detector",
   "metadata": {},
   "source": [
    "## LL(k) grammars\n",
    "\n",
    "A (proper) subclass of CFGs that permit a deterministic, no backtracking and top-down construction of a parse tree in $O(n)$ time by using:\n",
    "* **L**eft-to-right scan of input symbols,\n",
    "* **L**eftmost derivations, and\n",
    "* **k** lookahead symbols."
   ]
  },
  {
   "cell_type": "markdown",
   "id": "touched-motion",
   "metadata": {},
   "source": [
    "### Definition\n",
    "\n",
    "For $k \\ge 0$ and $\\tau \\in (N \\cup \\Sigma)^*$, define\n",
    "* $FIRST_k(\\tau) = \\{x \\in \\Sigma^* \\mid \\tau \\Rightarrow_{𝑙𝑚}^∗ x\\tau' \\text{ and } |x| = k \\text{ or } \\tau \\Rightarrow_{𝑙𝑚}^∗ x \\text{ and } |x| < k\\}$\n",
    "* $FOLLOW_k(\\tau) = \\{x \\in \\Sigma^* \\mid S \\Rightarrow_{𝑙𝑚}^∗ \\lambda \\tau \\mu \\text{ and } x \\in FIRST_{k}(\\mu)\\}$"
   ]
  },
  {
   "cell_type": "markdown",
   "id": "planned-bonus",
   "metadata": {},
   "source": [
    "### Definition\n",
    "\n",
    "$LOOKAHEAD_k(A \\rightarrow \\alpha) = FIRST_k(FIRST_k(\\alpha)\\cdot FOLLOW_k(A))$"
   ]
  },
  {
   "cell_type": "markdown",
   "id": "veterinary-donor",
   "metadata": {},
   "source": [
    "### Theorem\n",
    "\n",
    "A CFG $G$ is LL(k) iff, for every pair of rules $A \\rightarrow \\mid \\beta$ with the same nonterminal $A$ in the left-hand side, $LOOKAHEAD_k(A \\rightarrow \\alpha) \\cap LOOKAHEAD_k(A \\rightarrow \\beta) = \\emptyset$."
   ]
  },
  {
   "cell_type": "markdown",
   "id": "dominant-ministry",
   "metadata": {},
   "source": [
    "### IMPORTANT NOTES\n",
    "* Always add $\\varepsilon$ to the $FOLLOW$ set of $S$\n",
    "* Right recursion does not add anything to the $FOLLOW$ set\n",
    "* Use pointers (or some other bookkeeping method) when there is recursion among different $FOLLOW$ sets"
   ]
  },
  {
   "cell_type": "markdown",
   "id": "electronic-transportation",
   "metadata": {},
   "source": [
    "#### Example\n",
    "\n",
    "Construct the LL(k) parse table for the following CFG $G$, with the smallest value of $k$.\n",
    "\n",
    "$\n",
    "\\begin{align}\n",
    "S &\\rightarrow& Abc \\\\\n",
    "S &\\rightarrow& aAcb \\\\\n",
    "A &\\rightarrow& bA \\\\\n",
    "A &\\rightarrow& c \\\\\n",
    "A &\\rightarrow& \\varepsilon\n",
    "\\end{align}\n",
    "$"
   ]
  },
  {
   "cell_type": "markdown",
   "id": "existing-advocacy",
   "metadata": {},
   "source": [
    "#### Example\n",
    "\n",
    "$\n",
    "\\begin{align}\n",
    "S &\\rightarrow& aAd \\\\\n",
    "A &\\rightarrow& BSC \\\\\n",
    "B &\\rightarrow& b \\\\\n",
    "B &\\rightarrow& \\varepsilon \\\\\n",
    "C &\\rightarrow& dB \\\\\n",
    "C &\\rightarrow& d\n",
    "\\end{align}\n",
    "$"
   ]
  },
  {
   "cell_type": "markdown",
   "id": "adapted-diameter",
   "metadata": {},
   "source": [
    "#### Example\n",
    "\n",
    "$\n",
    "\\begin{align}\n",
    "S &\\rightarrow& aAbe \\\\\n",
    "S &\\rightarrow& BCf \\\\\n",
    "A &\\rightarrow& Sd \\\\\n",
    "A &\\rightarrow& \\varepsilon \\\\\n",
    "B &\\rightarrow& Cd \\\\\n",
    "B &\\rightarrow& d \\\\\n",
    "C &\\rightarrow& dfS \\\\\n",
    "C &\\rightarrow& b\n",
    "\\end{align}\n",
    "$"
   ]
  }
 ],
 "metadata": {
  "kernelspec": {
   "display_name": "Python 3",
   "language": "python",
   "name": "python3"
  },
  "language_info": {
   "codemirror_mode": {
    "name": "ipython",
    "version": 3
   },
   "file_extension": ".py",
   "mimetype": "text/x-python",
   "name": "python",
   "nbconvert_exporter": "python",
   "pygments_lexer": "ipython3",
   "version": "3.8.5"
  }
 },
 "nbformat": 4,
 "nbformat_minor": 5
}
