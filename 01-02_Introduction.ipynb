{
 "cells": [
  {
   "cell_type": "markdown",
   "metadata": {},
   "source": [
    "# Chapters 1 & 2: Introduction"
   ]
  },
  {
   "cell_type": "markdown",
   "metadata": {},
   "source": [
    "## Definitions"
   ]
  },
  {
   "cell_type": "markdown",
   "metadata": {},
   "source": [
    "**Translator** – A program that takes as input a program written in one programming language (the _source language_) and produces as output an _equivalent program_ written in another language (the _target language_)"
   ]
  },
  {
   "cell_type": "markdown",
   "metadata": {},
   "source": [
    "3 programs are involved\n",
    "- 1 fixed: the translator\n",
    "- 2 unfixed: source program and target program"
   ]
  },
  {
   "cell_type": "markdown",
   "metadata": {},
   "source": [
    "<h3><center><i>Translation Process</i></center></h3>\n",
    "<img src=\"./res/01-02/1-1.png\" width=\"700px\" alt=\"Translation Process\"/>",
    "![Title](res/01-02/1-1.png)"
   ]
  },
  {
   "cell_type": "markdown",
   "metadata": {},
   "source": [
    "**Compiler** – A translator in which the source language is a high-level language such as Fortran, Pascal, C and Java and the target language is a low-level machine language or Assembly language"
   ]
  },
  {
   "cell_type": "markdown",
   "metadata": {},
   "source": [
    "**Why compilers?**\n",
    "* Users want to program in easy high-level languages.\n",
    "* A computer can only understand/execute programs written in its own machine language.\n",
    "* A computer serves as an interface between these two by translating high-level source codes into low-level machine codes."
   ]
  },
  {
   "cell_type": "markdown",
   "metadata": {},
   "source": [
    "## Program Compilation Environment"
   ]
  },
  {
   "cell_type": "markdown",
   "metadata": {},
   "source": [
    "<img src=\"res/01-02/1-2.png\" width=\"500px\" alt=\"Source Program to Compiler to Target Program\"/>"
   ]
  },
  {
   "cell_type": "markdown",
   "metadata": {},
   "source": [
    "## Basic Modules of a Compiler"
   ]
  },
  {
   "cell_type": "markdown",
   "metadata": {},
   "source": [
    "<img src=\"./res/01-02/1-3.png\" width=\"600px\" alt=\"Basic Modules of a Compiler\"/>"
   ]
  },
  {
   "cell_type": "markdown",
   "metadata": {},
   "source": [
    "### Some Fundamental Concepts"
   ]
  },
  {
   "cell_type": "markdown",
   "metadata": {},
   "source": [
    "* _Analysis_ versus _synthesis_ \n",
    " - The **analysis** part (the first **three modules in sequence**) breaks the source program into pieces such as subprograms, blocks and statements and represents their relations in intermediate code.\n",
    " - The **synthesis part** (**other three in sequence**) constructs the target program.\n",
    " - The two modules in the sides (symbol table manager and bookkeeper) support analysis/synthesis.\n",
    "* _Single-pass_ versus _multi-pass compiling_\n",
    " - A **single-pass compiler** runs these modules **strictly in sequence**.\n",
    "   - Fast\n",
    "   - Needs a lot of memory space because all intermediate compilation information must be kept in the main memory\n",
    " - A **multi-pass compiler** runs these modules back and forth, **working only on a part of the source program at a time**. \n",
    "   - Less memory space\n",
    "   - Slow\n",
    "* _Front-end_ versus _back-end_ \n",
    " - The **front-end** (**the first four modules in sequence**, together with part of the two supporting modules) depends primarily on the source language and is independent of the target machine.\n",
    " - The **back-end** **depends on the intermediate language and the target machine**. \n",
    " - **Note that the same front-end can be used for many different machines** to create the associated back-end. So, it is better to include as much machine-independent features as possible in the front-end."
   ]
  },
  {
   "cell_type": "markdown",
   "metadata": {},
   "source": [
    "### Shared Modules"
   ]
  },
  {
   "cell_type": "markdown",
   "metadata": {},
   "source": [
    "* **Symbol-table manager** (or **bookkeepe**r) – This module does the bookkeeping job, particularly records all user-defined identifiers and known attributes (such as their types and scopes) in a symbol table.\n",
    "* **Error-handler** – This module prints appropriate error messages and corrects errors when possible. Errors are detected mostly by the first three modules and compilation must proceed in the presence of errors (error recovery) in order to find other errors in the source program."
   ]
  },
  {
   "cell_type": "markdown",
   "metadata": {},
   "source": [
    "### Lexical Analyzer (Scanner)"
   ]
  },
  {
   "cell_type": "markdown",
   "metadata": {},
   "source": [
    "This module takes the source program as a sequence of characters and groups certain characters that logically belong together into single entities called tokens.\n",
    "\n",
    "**NOTE:** Some literature makes the distinction between _lexemes_ (the actual text) and _tokens_ (the lexeme and its type). For instance, a variable $x$ would be a lexeme associated with a token of the form <$x$, $[id]$>."
   ]
  },
  {
   "cell_type": "markdown",
   "metadata": {},
   "source": [
    "<img src=\"./res/01-02/1-4.png\" width=\"700px\" alt=\"A scanner transforms a sequence of characters into a sequence of tokens\"/>\n",
    "<h4><center><i>A scanner transforms a sequence of characters into a sequence of tokens</i></center></h4>"
   ]
  },
  {
   "cell_type": "markdown",
   "metadata": {},
   "source": [
    "#### Example: Tokens\n",
    "* Reserved keywords such as `BEGIN`, `DO`, `WHILE`, `IF`, ...\n",
    "* User-defined identifiers such as $x$, $y$, $myfile$, $x.myfile$, ...\n",
    "* Constants such as $23$, $-13.6$, $25\\times10^{-5}$, ...\n",
    "* Special symbols such as `#`, `(`, `.`, `,`, `+`, `*`, ...\n",
    "\n",
    "**NOTE:** All user-defined identifiers and constants must be passed to the bookkeeper."
   ]
  },
  {
   "cell_type": "markdown",
   "metadata": {},
   "source": [
    "#### Example: Pascal program\n",
    "```\n",
    "x := sqrt(y); while I <= j do whilei = 1022 1x; stop\n",
    "```\n",
    "\n",
    "<h4><center><i>Lexical Output</i></center></h4>\n",
    "\n",
    "| Token (Lexeme) | Type           |\n",
    "|----------------|----------------|\n",
    "| x              | id             |\n",
    "| :=             | keyword        |\n",
    "| sqrt           | keyword        |\n",
    "| (              | special symbol |\n",
    "| y              | id             |\n",
    "| )              | special symbol |\n",
    "| ;              | special symbol |\n",
    "| while          | keyword        |\n",
    "| I              | id             |\n",
    "| <=             | keyword        |\n",
    "| j              | id             |\n",
    "| do             | keyword        |\n",
    "| whilei         | id             |\n",
    "| =              | ss             |\n",
    "| 1022           | const          |\n",
    "| 1x             | ERROR          |\n",
    "| ;              | special symbol |\n",
    "| stop           | id             |\n",
    "\n",
    "<h4><center><i>Symbol Table</i></center></h4>\n",
    "\n",
    "| Token (Lexeme) | Type  | ... | ... | ... |\n",
    "|----------------|-------|-----|-----|-----|\n",
    "| x              | id    |     |     |     |\n",
    "| y              | id    |     |     |     |\n",
    "| I              | id    |     |     |     |\n",
    "| j              | id    |     |     |     |\n",
    "| whilei         | id    |     |     |     |\n",
    "| 1022           | const |     |     |     |\n",
    "| stop           | id    |     |     |     |"
   ]
  },
  {
   "cell_type": "markdown",
   "metadata": {},
   "source": [
    "#### Example: FORTRAN program\n",
    "```\n",
    "IF (5.EQ.MAX) GOTO100 ELSE GO TO 100\n",
    "```\n",
    "\n",
    "**NOTE:** Observe that we need a \"lookahead\" before saying 5 alone is a token.\n",
    "\n",
    "<h4><center><i>Lexical Output</i></center></h4>\n",
    "\n",
    "| Token (Lexeme) | Type           |\n",
    "|----------------|----------------|\n",
    "| IF             | keyword        |\n",
    "| (              | special symbol |\n",
    "| 5              | constant       |\n",
    "| .              | special symbol |\n",
    "| EQ             |                |\n",
    "| .              | special symbol |\n",
    "| MAX            |                |\n",
    "| )              | special symbol |\n",
    "| GOTO100        | id             |\n",
    "| ELSE           | keyword        |\n",
    "| GO             | keyword        |\n",
    "| TO             | keyword        |\n",
    "| 100            | constant       |\n",
    "\n",
    "<h4><center><i>Symbol Table</i></center></h4>\n",
    "\n",
    "| Token (Lexeme) | Type  | ... | ... | ... |\n",
    "|----------------|-------|-----|-----|-----|\n",
    "| 5              | const |     |     |     |\n",
    "| GOTO100        | id    |     |     |     |\n",
    "| 100            | const |     |     |     |"
   ]
  },
  {
   "cell_type": "markdown",
   "metadata": {},
   "source": [
    "### Syntax Analyzer (Parser)"
   ]
  },
  {
   "cell_type": "markdown",
   "metadata": {},
   "source": [
    "This module performs a complete syntax checking (structural analysis) of the source program, i.e., it determines the syntactic relations among tokens found by the scanner."
   ]
  },
  {
   "cell_type": "markdown",
   "metadata": {},
   "source": [
    "<img src=\"./res/01-02/1-5.png\" width=\"700px\" alt=\"A parser transforms a sequence of tokens into a parse tree\"/>\n",
    "<h4><center><i>A parser transforms a sequence of tokens into a parse tree</i></center></h4>"
   ]
  },
  {
   "cell_type": "markdown",
   "metadata": {},
   "source": [
    "Note that the symtax of a programming language is defined by a _context-free grammar_, which is a system $G=(N,\\Sigma,P,S)$ with $N$ = nonterminal set, $\\Sigma$ = terminal set, $P$ = rules of the form $A\\rightarrow\\alpha$, where $A\\in N$ and $\\alpha\\in (N\\cup \\Sigma)^*$, and $S\\in N$ is the start symbol."
   ]
  },
  {
   "cell_type": "markdown",
   "metadata": {},
   "source": [
    "#### Example: CFG\n",
    "```\n",
    "<asmt stmt>    → <identifier> := <expr>\n",
    "<identifier>   → <letter> | <letter> <alphanumeric>\n",
    "<letter>       → A | B | … | Z\n",
    "<alphanumeric> → <letter> | <digit> | <letter> < alphanumeric>\n",
    "               | <digit> <alphanumeric>\n",
    "<digit>        → 0 | 1 | … | 9\n",
    "<expr>         → <identifier> | <constant> | <expr> + <expr> | <expr> * <expr>\n",
    "<constant>     → <digit> | <digit> <constant>\n",
    "```\n",
    "    \n",
    "This CFG consists of 7 nonterminal symbols, 40 terminal symbols and 49 rules. The start symbol is `<asmt stmt>`, which defines the syntactic structure of all assignment statements."
   ]
  },
  {
   "cell_type": "markdown",
   "metadata": {},
   "source": [
    "#### Example: Parse tree\n",
    "```\n",
    "A := B1 + C * 21\n",
    "```\n",
    "\n",
    "**NOTE:** The parse tree is constructed on **tokens**, NOT INDIVIDUAL SYMBOLS! The symbols below the parse tree are detected by the scanner.\n",
    "**NOTE:** The tokens for `A`, `B1`, `C`, and `21` have pointers to their symbol table entries."
   ]
  },
  {
   "cell_type": "markdown",
   "metadata": {},
   "source": [
    "<h4><center><i>Parse Tree Example</i></center></h4>\n",
    "<img src=\"./res/01-02/1-6.png\" width=\"700px\" alt=\"Parse Tree Example\"/>"
   ]
  },
  {
   "cell_type": "markdown",
   "metadata": {},
   "source": [
    "### Semantic Analyzer"
   ]
  },
  {
   "cell_type": "markdown",
   "metadata": {},
   "source": [
    "This module analyzes the meaning of the source program, e.g., it performs type checking."
   ]
  },
  {
   "cell_type": "markdown",
   "metadata": {},
   "source": [
    "#### Example: Type incompatibility\n",
    "Type incompatibility in x := 20 * y, where x, y are of the real type and 20 is an integer, can be detected by the semantic analyzer, which also does type conversion if necessary."
   ]
  },
  {
   "cell_type": "markdown",
   "metadata": {},
   "source": [
    "### Intermediate Code Generator"
   ]
  },
  {
   "cell_type": "markdown",
   "metadata": {},
   "source": [
    "This module produces a sequence of intermediate symbolic codes, typically three-address codes (statements involving at most three operands), of the form $A := B \\odot C$."
   ]
  },
  {
   "cell_type": "markdown",
   "metadata": {},
   "source": [
    "#### Example\n",
    "```\n",
    "// general examples\n",
    "A  := B * C\n",
    "A  := B\n",
    "\n",
    "// from the previous parse tree: A := B1 + C * 21\n",
    "R1 := C * 21\n",
    "R2 := B1 + R1\n",
    "A  := R2\n",
    "```"
   ]
  },
  {
   "cell_type": "markdown",
   "metadata": {},
   "source": [
    "### Code Optimizer"
   ]
  },
  {
   "cell_type": "markdown",
   "metadata": {},
   "source": [
    "This module transforms the intermediate codes into more time/space-efficient codes\n",
    "\n",
    "* Local optimization (such as peephole optimization) considers only small portions of the source program.\n",
    "* Global optimization performs optimization considering its effect over the entire source program (by using data/control flow analysis)."
   ]
  },
  {
   "cell_type": "markdown",
   "metadata": {},
   "source": [
    "#### Example"
   ]
  },
  {
   "cell_type": "markdown",
   "metadata": {},
   "source": [
    "```\n",
    "// before optimization (notice that B1 + R1 can be immediately assigned to A)\n",
    "R1 := C * 21\n",
    "R2 := B1 + R1\n",
    "A  := R2      // copy instruction, 3 operations is the upper limit\n",
    "\n",
    "// after optimization (possible if R2 is not used elsewhere)\n",
    "R1 := C * 21\n",
    "A  := B1 + R1\n",
    "```"
   ]
  },
  {
   "cell_type": "markdown",
   "metadata": {},
   "source": [
    "### Code Generator"
   ]
  },
  {
   "cell_type": "markdown",
   "metadata": {},
   "source": [
    "This module produces the target code in the form of Assembly code or relocatable machine code."
   ]
  },
  {
   "cell_type": "markdown",
   "metadata": {},
   "source": [
    "#### Example"
   ]
  },
  {
   "cell_type": "markdown",
   "metadata": {},
   "source": [
    "##### 3-address code\n",
    "```\n",
    "R1 := C * 21\n",
    "R2 := B1 + R1\n",
    "A  := R2\n",
    "```\n",
    "\n",
    "##### Assembly code\n",
    "```\n",
    "LOAD C      ; acc (accumulator) = C\n",
    "MULT 21     ; acc = C * 21\n",
    "STOR R1     ; R1 = C * 21\n",
    "LOAD B1     ; acc = B1\n",
    "ADD  R1     ; acc = B1 + R1\n",
    "STOR A      ; A := B1 + C * 21\n",
    "```\n",
    "\n",
    "##### Machine code\n",
    "Assume that instructions have the following function codes:\n",
    "```\n",
    "LOAD = 0001\n",
    "MULT = 0101\n",
    "ADD  = 1010\n",
    "STOR = 1101\n",
    "```\n",
    "Assume that the symbol table contains the following values\n",
    "```\n",
    "| Address | Variable | ... |\n",
    "| ------- | -------- | --- |\n",
    "| 0011    | C        |     |\n",
    "| 0100    | B1       |     |\n",
    "| 0111    | 21       |     |\n",
    "| 1100    | A        |     |\n",
    "```\n",
    "Assume that machine code for an instruction is of the form `ffff cccc` where \n",
    "* `ffff` is the function code\n",
    "* `cccc` is the variable address/constant\n",
    "\n",
    "Assume that the instructions\n",
    "```\n",
    "STOR R1     ; R1 = C * 21\n",
    "LOAD B1     ; acc = B1\n",
    "ADD  R1     ; acc = B1 + R1\n",
    "```\n",
    "have been optimized as\n",
    "```\n",
    "ADD  B1\n",
    "```\n",
    "\n",
    "Then, we obtain the following target code:\n",
    "```\n",
    "| Assembly code | Machine code |\n",
    "| ------------- | ------------ |\n",
    "| LOAD C        | 0001 0011    |\n",
    "| MULT 21       | 0101 0111    |\n",
    "| ADD  B1       | 1010 0100    |\n",
    "| STOR A        | 1101 1100    |\n",
    "```\n",
    "\n",
    "This is called relocatable machine code, because actual memory addresses can be determined at runtime by using relative distances."
   ]
  },
  {
   "cell_type": "markdown",
   "metadata": {},
   "source": [
    "## Compiler-compiler (or compiler-generator)\n",
    "A software program that takes the description of the main features of the source language as input and produces a module of a compiler."
   ]
  },
  {
   "cell_type": "markdown",
   "metadata": {},
   "source": [
    "#### Examples\n",
    "* Scanner generator, e.g., LEX (regular expression -> scanner)\n",
    "* Parser generator, e.g., YACC (CFG -> parser)\n",
    "* Syntax-directed translation engine\n",
    "* Automatic code generator\n",
    "* Data-flow engine"
   ]
  }
 ],
 "metadata": {
  "kernelspec": {
   "display_name": "Python 3",
   "language": "python",
   "name": "python3"
  },
  "language_info": {
   "codemirror_mode": {
    "name": "ipython",
    "version": 3
   },
   "file_extension": ".py",
   "mimetype": "text/x-python",
   "name": "python",
   "nbconvert_exporter": "python",
   "pygments_lexer": "ipython3",
   "version": "3.8.5"
  }
 },
 "nbformat": 4,
 "nbformat_minor": 4
}
