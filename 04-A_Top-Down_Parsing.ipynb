{
 "cells": [
  {
   "cell_type": "markdown",
   "id": "accepted-silicon",
   "metadata": {},
   "source": [
    "# Chapter 4-A Top-Down Parsing"
   ]
  },
  {
   "cell_type": "markdown",
   "id": "drawn-wings",
   "metadata": {},
   "source": [
    "The syntax analyzer performs the major syntax checking (the inherently recursive part) of the source program."
   ]
  },
  {
   "cell_type": "markdown",
   "id": "unlimited-genius",
   "metadata": {},
   "source": [
    "#### Example"
   ]
  },
  {
   "cell_type": "markdown",
   "id": "major-healing",
   "metadata": {},
   "source": [
    "$L = \\{a^nb^n\\ |\\ n \\ge 1\\}$, i.e., the language of all nested parentheses (or begin-ends), is not regular but is context-free.\n",
    "\n",
    "For example, `()`, `(())`, `begin begin end end`."
   ]
  },
  {
   "cell_type": "markdown",
   "id": "brief-vintage",
   "metadata": {},
   "source": [
    "The syntax of a programming language is defined by a context-free grammar but there are language features that cannot be described by a context-free grammar. They must be handled by the semantic analyzer."
   ]
  },
  {
   "cell_type": "markdown",
   "id": "literary-newton",
   "metadata": {},
   "source": [
    "#### Example"
   ]
  },
  {
   "cell_type": "markdown",
   "id": "built-alias",
   "metadata": {},
   "source": [
    "$L = \\{wzw\\ |\\ w, z \\in \\{a, b\\}^*\\}$, i.e., the language abstracting the feature that identifiers are declared before their use, is not context-free but is context-sensitive (semantic analyzer)."
   ]
  },
  {
   "cell_type": "markdown",
   "id": "literary-investor",
   "metadata": {},
   "source": [
    "#### Example"
   ]
  },
  {
   "cell_type": "markdown",
   "id": "alleged-given",
   "metadata": {},
   "source": [
    "$\n",
    "\\begin{eqnarray}\n",
    "E &\\rightarrow& E + E \\\\\n",
    "&|& E * E \\\\\n",
    "&|& [id] \\\\\n",
    "&|& [const]\n",
    "\\end{eqnarray}\n",
    "$"
   ]
  },
  {
   "cell_type": "markdown",
   "id": "controversial-boundary",
   "metadata": {},
   "source": [
    "<h3><center><i>Example Parse Tree</i></center></h3>\n",
    "\n",
    "<img src=\"./res/04/4_1.png\" width=\"300px\" alt=\"Example Parse Tree\"/>"
   ]
  },
  {
   "cell_type": "markdown",
   "id": "restricted-airplane",
   "metadata": {},
   "source": [
    "A leftmost derivation:\n",
    "\n",
    "$\n",
    "\\begin{eqnarray}\n",
    "E &\\Rightarrow_{lm}& E * E \\\\\n",
    "&\\Rightarrow_{lm}& [id] * E \\\\\n",
    "&\\Rightarrow_{lm}& [id] * E + E \\\\\n",
    "&\\Rightarrow_{lm}& [id] * [id] + E \\\\\n",
    "&\\Rightarrow_{lm}& [id] * [id] + [id]\n",
    "\\end{eqnarray}\n",
    "$\n",
    "\n",
    "A rightmost derivation:\n",
    "\n",
    "$\n",
    "\\begin{eqnarray}\n",
    "E &\\Rightarrow_{rm}& E * E & \\\\\n",
    "&\\Rightarrow_{rm}& E * E + E \\\\\n",
    "&\\Rightarrow_{rm}& E * E + [id] \\\\\n",
    "&\\Rightarrow_{rm}& E * [id] + [id] \\\\\n",
    "&\\Rightarrow_{rm}& [id] * [id] + [id]\n",
    "\\end{eqnarray}\n",
    "$"
   ]
  },
  {
   "cell_type": "markdown",
   "id": "welsh-target",
   "metadata": {},
   "source": [
    "## Ambiguity"
   ]
  },
  {
   "cell_type": "markdown",
   "id": "successful-mongolia",
   "metadata": {},
   "source": [
    "A context-free grammar is **ambiguous** if there are two or more parse trees (or leftmost/rightmost derivations) for some sentence. Otherwise, it is **unambiguous**."
   ]
  },
  {
   "cell_type": "markdown",
   "id": "welsh-hayes",
   "metadata": {},
   "source": [
    "#### Example\n",
    "The example grammar given above is ambiguous, because two different parse trees can lead to the same sentential form."
   ]
  },
  {
   "cell_type": "markdown",
   "id": "australian-intention",
   "metadata": {},
   "source": [
    "#### Note\n",
    "An ambiguous CFG should not be used to define the syntax of a programming language.\n",
    "* Context-free grammar ambiguity problem is undecidable in general.\n",
    "* Rules causing ambiguity can sometimes be modified into unambiguous rules by assuming additional constraints.\n",
    "\n",
    "Also, there is no transformation from an ambiguous CFG to an unambiguous CFG."
   ]
  },
  {
   "cell_type": "markdown",
   "id": "advance-tender",
   "metadata": {},
   "source": [
    "#### Disambiguating rules\n",
    "Assume the operator precedence $* > +$.\n",
    "\n",
    "$\n",
    "\\begin{eqnarray}\n",
    "E &\\rightarrow& E + T\\ |\\ T \\\\\n",
    "T &\\rightarrow& T * F\\ |\\ F \\\\\n",
    "F &\\rightarrow& [id]\\ |\\  [const]\n",
    "\\end{eqnarray}\n",
    "$"
   ]
  },
  {
   "cell_type": "markdown",
   "id": "impressive-conjunction",
   "metadata": {},
   "source": [
    "#### Example\n",
    "$[id] * [id] + [id]$\n",
    "\n",
    "<h3><center><i>Parse Tree Using Unambiguous Grammar</i></center></h3>\n",
    "\n",
    "<img src=\"./res/04/4_2.png\" width=\"300px\" alt=\"Parse Tree Using Unambiguous Grammar\"/>"
   ]
  },
  {
   "cell_type": "markdown",
   "id": "concerned-recognition",
   "metadata": {},
   "source": [
    "### Dangling-else\n",
    "```\n",
    "<if-stmt> → if <expr> then <stmt> else <stmt> | if <expr> then <stmt>\n",
    "```"
   ]
  },
  {
   "cell_type": "markdown",
   "id": "primary-exhibition",
   "metadata": {},
   "source": []
  },
  {
   "cell_type": "markdown",
   "id": "prescription-valve",
   "metadata": {},
   "source": [
    "#### Disambiguating rules\n",
    "Assume that else matches with the nearest unmatched preceding then.\n",
    "```\n",
    "<if-stmt>        → <matched-stmt> | <unmatched-stmt>\n",
    "<matched-stmt>   → if <expr> then <matched-stmt> else <matched-stmt> | <other-stmt>\n",
    "<unmatched-stmt> → if <expr> then <matched-stmt> else <unmatched-stmt>\n",
    "                 | if <expr> then <stmt>\n",
    "```"
   ]
  },
  {
   "cell_type": "markdown",
   "id": "domestic-order",
   "metadata": {},
   "source": [
    "## Deterministic parsing methods:\n",
    "\n",
    "* Universal parsing algorithms such as Cocke-Younger-Kasami or Earley’s algorithm can parse any context-free language but is impractical in that they run in $O(n^3)$ time.\n",
    "* Top-down LL and bottom-up LR parsing algorithms can parse large subclasses of context-free languages and run in $O(n)$ time."
   ]
  },
  {
   "cell_type": "markdown",
   "id": "greater-pendant",
   "metadata": {},
   "source": [
    "## Syntax error detection and recovery:\n",
    "\n",
    "* Majority of errors are syntactic in nature, e.g., unbalanced parentheses in the arithmetic expression\n",
    "* Most syntax errors are simple ones that can be detected easily by the parser.\n",
    "* Again, heuristics must be used to recover from syntax errors and full recovery is not possible nor cost-effective. Panic mode recovery ignores several subsequent tokens, e.g., upto a sentence-ending one such as ; or end, and continues."
   ]
  },
  {
   "cell_type": "markdown",
   "id": "caroline-highlight",
   "metadata": {},
   "source": [
    "## Cocke-Younger-Kasami (CYK) parsing\n",
    "Given a CFG $G = (N, \\Sigma, P, S)$ in Chomsky Normal Form and an input string $w$, test if $w \\in L(G)$. Let $w = a_1 a_2 \\dots a_n$ and let $T$ be an $n \\times n$ table such that $T[i, j]$ is the set of all nonterminals generating $a_{i} a_{i+1} \\cdots a_{j}$. Then, $w \\in L(G)$ if and only if $S \\in T[1, n]$. $T$ can be constructed by a _dynamic programming_."
   ]
  },
  {
   "cell_type": "markdown",
   "id": "enclosed-accused",
   "metadata": {},
   "source": [
    "#### Example\n",
    "Parse $w=abba$ with the following CFG:\n",
    "\n",
    "$\n",
    "\\begin{eqnarray}\n",
    "S &\\rightarrow& AB\\ |\\ SA\\ |\\ BB \\\\\n",
    "A &\\rightarrow& AA\\ |\\ BA\\ |\\ a \\\\\n",
    "A &\\rightarrow& BB\\ |\\ b \\\\\n",
    "\\end{eqnarray}\n",
    "$"
   ]
  },
  {
   "cell_type": "markdown",
   "id": "weird-orange",
   "metadata": {},
   "source": [
    "## Top-down parsing\n",
    "Given a CFG $G = (N, \\Sigma, P, S)$ and an input string $w$, construct a parse tree for $w$ in $G$ top-down, i.e., start with the start symbol $S$ and expand nonterminals in order to generate $w$."
   ]
  },
  {
   "cell_type": "markdown",
   "id": "hybrid-advance",
   "metadata": {},
   "source": [
    "#### Observation\n",
    "\n",
    "The main difficulty of the top-down parsing lies in the right choice of the right-hand side (RHS) of a rule when there are multiple RHSs."
   ]
  },
  {
   "cell_type": "markdown",
   "id": "atomic-gazette",
   "metadata": {},
   "source": [
    "#### Note\n",
    "\n",
    "PDA is the recognition device for CFGs (CFG = PDA). Namely, a program structure is defined by a CFG but whether an input structure is valid or not according to the rules of the CFG is tested by a PDA. Our top-down parser will be a PDA simulating a certain type of action of the CFG."
   ]
  },
  {
   "cell_type": "markdown",
   "id": "strange-console",
   "metadata": {},
   "source": [
    "## Pushdown automaton (PDA)\n",
    "\n",
    "A finite automaton with an additional stack of unbounded size, defined formally as $M = (Q, \\Sigma, \\Gamma, \\delta, q_0, Z_0, F)$, where $Q$ is the state set, $\\Sigma$ is the input alphabet, $\\Gamma$ is the stack alphabet, $\\delta: Q \\times (\\Sigma \\cup \\{\\varepsilon\\}) \\times \\Gamma \\rightarrow 2^{Q \\times \\Gamma^*}$ is the transition function, $q_0$ is the initial state, $Z_0 \\in \\Gamma$ is the stack bottom marker, and $F \\subseteq Q$ is the set of accepting states."
   ]
  },
  {
   "cell_type": "markdown",
   "id": "attended-naples",
   "metadata": {},
   "source": [
    "### Configuration\n",
    "A triple $(q, x{\\uparrow}y, \\gamma)$ indicating the PDA’s situation that it is in state $q$ after consuming the prefix $x$ of the input string $xy$, it is scanning the first symbol of $y$ on the input tape, and the stack content is $\\gamma$, where the first symbol of $\\gamma$ is the stack top symbol."
   ]
  },
  {
   "cell_type": "markdown",
   "id": "thousand-sister",
   "metadata": {},
   "source": [
    "### Accepting computation\n",
    "A sequence of configurations $(q_0, {\\uparrow}w, Z_0) \\vdash \\cdots \\vdash (q, w{\\uparrow}, \\gamma)$, where $q \\in Q$ (the last one in this sequence is an accepting configuration), i.e., a PDA accepts at the end of the input tape if it is in an accepting state. Assume w.l.o.g. that the PDA accepts with the empty stack (so, $\\gamma = \\varepsilon$)."
   ]
  },
  {
   "cell_type": "markdown",
   "id": "ready-hopkins",
   "metadata": {},
   "source": [
    "### Deterministic PDA (DPDA)\n",
    "A PDA with at most one possible next action at any point of computation"
   ]
  },
  {
   "cell_type": "markdown",
   "id": "fresh-bundle",
   "metadata": {},
   "source": [
    "#### Example\n",
    "\n",
    "DPDA for $L = \\{a^n b^n\\ |\\ n \\ge 1\\}$\n",
    "\n",
    "1. Push a’s into the stack.\n",
    "2. Pop a’s while reading b’s.\n",
    "3. Accept if the stack is empty at the end of the input tape.\n",
    "\n",
    "$M = (\\{q_0,q_1\\}, \\{a, b\\}, \\{a, Z_0\\}, \\delta, q_0, Z_0, {q_1})$, where\n",
    "\n",
    "$\n",
    "\\delta(q_0,a,Z_0) = \\{(q_0, aZ_0)\\} \\\\\n",
    "\\delta(q_0,a,a) = \\{(q_0, aa)\\} \\\\\n",
    "\\delta(q_0,a,a) = \\{(q_1, \\varepsilon)\\} \\\\\n",
    "\\delta(q_1,b,a) = \\{(q_1, \\varepsilon)\\} \\\\\n",
    "\\delta(q_1,\\varepsilon,Z_0) = \\{(q_1, \\varepsilon)\\} \\text{ // empty the stack to accept}\n",
    "$"
   ]
  },
  {
   "cell_type": "markdown",
   "id": "asian-slope",
   "metadata": {},
   "source": [
    "#### An accepting computation:\n",
    "\n",
    "$\n",
    "\\begin{eqnarray}\n",
    "(q_0, {\\uparrow}aabb, Z_0) &\\vdash& (q_0, a{\\uparrow}abb, aZ_0) \\\\\n",
    "&\\vdash& (q_0, aa{\\uparrow}bb, aaZ_0) \\\\\n",
    "&\\vdash& (q_1, aab{\\uparrow}b, aZ_0) \\\\\n",
    "&\\vdash& (q_1, aabb{\\uparrow}, Z_0) \\\\\n",
    "&\\vdash& (q_1, aabb{\\uparrow}, \\varepsilon)\n",
    "\\end{eqnarray}\n",
    "$"
   ]
  },
  {
   "cell_type": "markdown",
   "id": "global-arlington",
   "metadata": {},
   "source": [
    "#### Note\n",
    "DPDA ⊊ PDA, i.e., there is a language defined by a PDA but not by any DPDA."
   ]
  },
  {
   "cell_type": "markdown",
   "id": "conditional-plaza",
   "metadata": {},
   "source": [
    "#### Example\n",
    "Example. $L = \\{ww^R\\ |\\ w \\in \\{a, b\\}^*\\} ∈$ PDA $–$ DPDA.\n",
    "\n",
    "1. Similar to the above construction.\n",
    "2. But the mid-point must be guessed.\n",
    "\n",
    "$M = (\\{q_0,q_1\\}, \\{a, b\\}, \\{a, Z_0\\}, \\delta, q_0, Z_0, {q_1})$, where\n",
    "\n",
    "$\n",
    "\\delta(q_0,X,Z_0) = \\{(q_0, XZ_0)\\}\\ \\forall X\\in\\{a,b\\} \\\\\n",
    "\\delta(q_0,X,X) = \\{(q_0, XX), (q_1,\\varepsilon)\\}\\ \\forall X\\in\\{a,b\\} \\text{ // multiple choices} \\\\\n",
    "\\delta(q_0,X,Y) = \\{(q_0, XY)\\}\\ \\forall X\\in\\{a,b\\} \\text{ if } X\\ne Y \\\\\n",
    "\\delta(q_1,X,X) = \\{(q_1, \\varepsilon)\\} \\forall X\\in\\{a,b\\} \\\\\n",
    "\\delta(q_1,\\varepsilon,Z_0) = \\{(q_1, \\varepsilon)\\}\n",
    "$"
   ]
  },
  {
   "cell_type": "markdown",
   "id": "alternative-meeting",
   "metadata": {},
   "source": [
    "## CFG to PDA"
   ]
  },
  {
   "cell_type": "markdown",
   "id": "visible-lender",
   "metadata": {},
   "source": [
    "Given a CFG $G = (N, \\Sigma, P, S)$, we construct a PDA M such that $L(M) = L(G)$. For any input $w \\in \\Sigma^*$, $M$ will simulate a leftmost derivation of $w$ in $G$ and accept $w$ if and only if $w$ can be generated by $G$.\n",
    "\n",
    "1. Push $S$ into stack. $M$ will check if the stack content $S$ can convert to the unscanned portion $w$ of the input tape by using the rules of $G$.\n",
    "2. If $M$ has successfully simulated the leftmost derivation of $G$, such as $S \\Rightarrow_{lm}^* xA\\gamma$, where $x \\in \\Sigma^*$ and $A \\in N$ (thus, $A$ is the leftmost nonterminal in the current sentential form), then the corresponding configuration of $M$ is $(q, x{\\uparrow}y, A{\\gamma}Z_0)$. $M$ needs to verify that the current stack content $A\\gamma$ can convert to the unscanned portion $y$ of the input tape.\n",
    "3. It is sufficient to understand how $M$ simulates one step action of $G$ that expands a nonterminal to one of its RHSs, say $A \\Rightarrow \\alpha$. Replace the stack top symbol $A$ by $\\alpha$.\n",
    "  - If a terminal symbol is exposed on the stack top as the result, then consume an identical input symbol and pop it. Repeat this action.\n",
    "  - If a nonterminal symbol is exposed on the stack top, then we are done with the one-step simulation, so go back to (3).\n",
    "4. Accept if the stack is empty at the end of the input tape since it is trivial that the stack content $\\varepsilon$ can turn to the unscanned portion $\\varepsilon$ of the input tape."
   ]
  },
  {
   "cell_type": "markdown",
   "id": "cultural-great",
   "metadata": {},
   "source": [
    "Thus,\n",
    "\n",
    "$M = (\\{q_0,q_1\\}, \\Sigma, N \\cup \\Sigma \\cup \\{Z_0\\}, \\delta, q_0, Z_0, \\{q_1\\})$, where\n",
    "\n",
    "$\n",
    "\\delta(q_0,\\varepsilon,Z_0) = \\{(q_1, SZ_0)\\}\\ \\\\\n",
    "\\delta(q_1,\\varepsilon,A) = \\{(q_1, \\alpha_j)\\ |\\ j=1,2,\\dots,n\\} \\text{ if} A\\rightarrow\\alpha_1\\ |\\ \\alpha_2\\ | \\cdots |\\ \\alpha_n \\text{ are } A \\text{-rules of } G\\\\\n",
    "\\delta(q_1,a,a) = \\{(q_1, \\varepsilon)\\}\\ \\forall a\\in\\Sigma \\\\\n",
    "\\delta(q_1,\\varepsilon,Z_0) = \\{(q_1, \\varepsilon)\\}\n",
    "$"
   ]
  },
  {
   "cell_type": "code",
   "execution_count": null,
   "id": "partial-subdivision",
   "metadata": {},
   "outputs": [],
   "source": []
  }
 ],
 "metadata": {
  "kernelspec": {
   "display_name": "Python 3",
   "language": "python",
   "name": "python3"
  },
  "language_info": {
   "codemirror_mode": {
    "name": "ipython",
    "version": 3
   },
   "file_extension": ".py",
   "mimetype": "text/x-python",
   "name": "python",
   "nbconvert_exporter": "python",
   "pygments_lexer": "ipython3",
   "version": "3.8.5"
  }
 },
 "nbformat": 4,
 "nbformat_minor": 5
}
